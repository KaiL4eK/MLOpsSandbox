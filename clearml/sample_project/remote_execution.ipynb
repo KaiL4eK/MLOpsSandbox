{
 "cells": [
  {
   "cell_type": "code",
   "execution_count": 1,
   "metadata": {},
   "outputs": [
    {
     "name": "stdout",
     "output_type": "stream",
     "text": [
      "Project root: /home/aleksey/Dev/MLOpsSandbox/clearml\n"
     ]
    }
   ],
   "source": [
    "import os\n",
    "from clearml import Task\n",
    "\n",
    "from dotenv import load_dotenv\n",
    "\n",
    "PROJECT_ROOT = os.path.abspath(os.path.join(os.curdir, os.pardir))\n",
    "\n",
    "print(f\"Project root: {PROJECT_ROOT}\")"
   ]
  },
  {
   "cell_type": "code",
   "execution_count": 2,
   "metadata": {},
   "outputs": [],
   "source": [
    "load_dotenv();\n",
    "\n",
    "# You can use next string for ClearML credentials for local execution but there are some issues with remote execution\n",
    "# os.environ[\"CLEARML_CONFIG_FILE\"] = os.path.join(PROJECT_ROOT, \"clearml.conf\")"
   ]
  },
  {
   "cell_type": "code",
   "execution_count": null,
   "metadata": {},
   "outputs": [],
   "source": [
    "# Modified example from https://github.com/catalyst-team/catalyst#getting-started\n",
    "\n",
    "import os\n",
    "from torch import nn, optim\n",
    "from torch.utils.data import DataLoader\n",
    "from catalyst import dl, utils\n",
    "from catalyst.contrib.datasets import MNIST\n",
    "\n",
    "\n",
    "def start_training(clearml_task: Task):\n",
    "    model = nn.Sequential(nn.Flatten(), nn.Linear(28 * 28, 10))\n",
    "    criterion = nn.CrossEntropyLoss()\n",
    "    optimizer = optim.Adam(model.parameters(), lr=0.02)\n",
    "    loaders = {\n",
    "        \"train\": DataLoader(MNIST(os.getcwd(), train=True), batch_size=32),\n",
    "        \"valid\": DataLoader(MNIST(os.getcwd(), train=False), batch_size=32),\n",
    "    }\n",
    "\n",
    "    runner = dl.SupervisedRunner(\n",
    "        input_key=\"features\", output_key=\"logits\", target_key=\"targets\", loss_key=\"loss\"\n",
    "    )\n",
    "\n",
    "    num_epochs = 100\n",
    "\n",
    "    if clearml_task.running_locally():\n",
    "        print('Running locally')\n",
    "        num_epochs = 0\n",
    "    else:\n",
    "        print('Running remotely')\n",
    "\n",
    "    # model training\n",
    "    runner.train(\n",
    "        model=model,\n",
    "        criterion=criterion,\n",
    "        optimizer=optimizer,\n",
    "        loaders=loaders,\n",
    "        num_epochs=num_epochs,\n",
    "        callbacks=[\n",
    "            dl.AccuracyCallback(input_key=\"logits\", target_key=\"targets\", topk=(1, 3, 5)),\n",
    "            dl.PrecisionRecallF1SupportCallback(input_key=\"logits\", target_key=\"targets\"),\n",
    "        ],\n",
    "        logdir=\"./logs\",\n",
    "        valid_loader=\"valid\",\n",
    "        valid_metric=\"loss\",\n",
    "        minimize_valid_metric=True,\n",
    "        verbose=True,\n",
    "    )"
   ]
  },
  {
   "cell_type": "code",
   "execution_count": null,
   "metadata": {},
   "outputs": [],
   "source": [
    "clearml_task = Task.init(project_name=\"sample_project\", reuse_last_task_id=False)\n",
    "\n",
    "try:\n",
    "    start_training(clearml_task=clearml_task)\n",
    "    clearml_task.execute_remotely(queue_name=\"my-queue\")\n",
    "    # Should be after remote execution under `try`\n",
    "    clearml_task.mark_completed()\n",
    "except Exception as e:\n",
    "    print(f\"Failed to execute: {e}\")\n",
    "    clearml_task.mark_failed()"
   ]
  },
  {
   "cell_type": "code",
   "execution_count": null,
   "metadata": {},
   "outputs": [],
   "source": []
  }
 ],
 "metadata": {
  "kernelspec": {
   "display_name": ".venv",
   "language": "python",
   "name": "python3"
  },
  "language_info": {
   "codemirror_mode": {
    "name": "ipython",
    "version": 3
   },
   "file_extension": ".py",
   "mimetype": "text/x-python",
   "name": "python",
   "nbconvert_exporter": "python",
   "pygments_lexer": "ipython3",
   "version": "3.8.10"
  },
  "orig_nbformat": 4,
  "vscode": {
   "interpreter": {
    "hash": "9e4f08c247f6a619ec3ca44cd227d93fe62549cf87e14c795855cfd3fb7120ad"
   }
  }
 },
 "nbformat": 4,
 "nbformat_minor": 2
}
